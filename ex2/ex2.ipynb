{
 "cells": [
  {
   "cell_type": "markdown",
   "metadata": {},
   "source": [
    "# Exercise 2-1: Logistic Regression"
   ]
  },
  {
   "cell_type": "markdown",
   "metadata": {},
   "source": [
    "In this exercise, we will implement logistic regression and apply it to two different datasets."
   ]
  },
  {
   "cell_type": "markdown",
   "metadata": {},
   "source": [
    "## Load Data"
   ]
  },
  {
   "cell_type": "markdown",
   "metadata": {},
   "source": [
    "In ex2data1.txt, the first two columns contains the exam scores and the third column contains the label."
   ]
  },
  {
   "cell_type": "code",
   "execution_count": 3,
   "metadata": {},
   "outputs": [],
   "source": [
    "import numpy as np\n",
    "\n",
    "\n",
    "data = np.loadtxt(open(\"ex2data1.txt\", \"r\"), delimiter=\",\")\n",
    "X = data[:, 0:2]\n",
    "y = data[:, 2]"
   ]
  },
  {
   "cell_type": "markdown",
   "metadata": {},
   "source": [
    "## Part 1: Plotting"
   ]
  },
  {
   "cell_type": "markdown",
   "metadata": {},
   "source": [
    "The plot_data() plots the given data points X and y."
   ]
  },
  {
   "cell_type": "code",
   "execution_count": 5,
   "metadata": {},
   "outputs": [],
   "source": [
    "import matplotlib.pyplot as plt\n",
    "\n",
    "\n",
    "def plot_data(X, y):\n",
    "    \"\"\"\n",
    "    Plots the data points X and y.\n",
    "\n",
    "    Parameters\n",
    "    ----------\n",
    "    X : array-like, shape (n_samples, 2)\n",
    "        Data on x axis.\n",
    "    y : array-like, shape (n_samples,)\n",
    "        Data on y axis.\n",
    "    \"\"\"\n",
    "    pos = np.argwhere(y == 1)\n",
    "    neg = np.argwhere(y == 0)\n",
    "\n",
    "    plt.plot(X[pos, 0], X[pos, 1], linestyle='', marker='+', color='k')\n",
    "    plt.plot(X[neg, 0], X[neg, 1], linestyle='', marker='o', color='y')"
   ]
  },
  {
   "cell_type": "markdown",
   "metadata": {},
   "source": [
    "Plot the dataset:"
   ]
  },
  {
   "cell_type": "code",
   "execution_count": 6,
   "metadata": {},
   "outputs": [
    {
     "data": {
      "image/png": "[encoded data removed]",
      "text/plain": [
       "<Figure size 432x288 with 1 Axes>"
      ]
     },
     "metadata": {
      "needs_background": "light"
     },
     "output_type": "display_data"
    }
   ],
   "source": [
    "plt.figure()\n",
    "plot_data(X, y)\n",
    "# Labels and Legend\n",
    "plt.xlabel('Exam 1 score')\n",
    "plt.ylabel('Exam 2 score')\n",
    "plt.xlim([30, 100])\n",
    "plt.ylim([30, 100])\n",
    "plt.legend(['Admitted', 'Not admitted'], loc='upper right', numpoints=1)\n",
    "plt.show()"
   ]
  },
  {
   "cell_type": "markdown",
   "metadata": {},
   "source": [
    "## Part 2: Compute Cost and Gradient"
   ]
  },
  {
   "cell_type": "markdown",
   "metadata": {},
   "source": [
    "Initialize training parameters as follows:"
   ]
  },
  {
   "cell_type": "code",
   "execution_count": 8,
   "metadata": {},
   "outputs": [],
   "source": [
    "# Setup the data matrix appropriately, and add ones for the intercept term\n",
    "m, n = X.shape\n",
    "# Add intercept term to x and X_test\n",
    "X = np.hstack((np.ones((m, 1)), X))\n",
    "# Initialize fitting parameters\n",
    "theta = np.zeros(n + 1)  # Initialize fitting parameters"
   ]
  },
  {
   "cell_type": "markdown",
   "metadata": {},
   "source": [
    "To compute the cost, we need to implement the sigmoid function first."
   ]
  },
  {
   "cell_type": "code",
   "execution_count": 9,
   "metadata": {},
   "outputs": [],
   "source": [
    "def sigmoid(z):\n",
    "    \"\"\"\n",
    "    Compute sigmoid function.\n",
    "\n",
    "    Parameters\n",
    "    ----------\n",
    "    z : array-like\n",
    "        Variable for sigmoid function.\n",
    "\n",
    "    Returns\n",
    "    -------\n",
    "    ndarray\n",
    "        The sigmoid of each value of z.\n",
    "    \"\"\"\n",
    "    g = 1 / (1 + np.exp(-z))\n",
    "    return g"
   ]
  },
  {
   "cell_type": "markdown",
   "metadata": {},
   "source": [
    "The cost_function() computes the cost and gradient for logistic regression."
   ]
  },
  {
   "cell_type": "code",
   "execution_count": 10,
   "metadata": {},
   "outputs": [],
   "source": [
    "def cost_function(theta, X, y):\n",
    "    \"\"\"\n",
    "    Compute cost and gradient for logistic regression.\n",
    "\n",
    "    Parameters\n",
    "    ----------\n",
    "    theta : ndarray, shape (n_features,)\n",
    "        Linear regression parameter.\n",
    "    X : ndarray, shape (n_samples, n_features)\n",
    "        Training data, where n_samples is the number of samples and n_features is the number of features.\n",
    "    y : ndarray, shape (n_samples,)\n",
    "        Labels.\n",
    "\n",
    "    Returns\n",
    "    -------\n",
    "    J : numpy.float64\n",
    "        The cost of using theta as the parameter for linear regression to fit the data points in x and y.\n",
    "    grad: ndarray, shape (n_features,)\n",
    "        The gradient of the cost w.r.t. the parameters.\n",
    "    \"\"\"\n",
    "    m, n = X.shape\n",
    "    x_dot_theta = X.dot(theta)\n",
    "\n",
    "    J = 1.0 / m * (-y.T.dot(np.log(sigmoid(x_dot_theta))) - (1 - y).T.dot(np.log(1 - sigmoid(x_dot_theta))))\n",
    "\n",
    "    grad = 1.0 / m * (sigmoid(x_dot_theta) - y).T.dot(X)\n",
    "\n",
    "    return J, grad"
   ]
  },
  {
   "cell_type": "markdown",
   "metadata": {},
   "source": [
    "Test the cost_function() on initial values:"
   ]
  },
  {
   "cell_type": "code",
   "execution_count": 11,
   "metadata": {},
   "outputs": [
    {
     "name": "stdout",
     "output_type": "stream",
     "text": [
      "Cost at initial theta (zeros): 0.6931471805599452\n",
      "Gradient at initial theta (zeros): [ -0.1        -12.00921659 -11.26284221]\n"
     ]
    }
   ],
   "source": [
    "cost, grad = cost_function(theta, X, y)\n",
    "\n",
    "print('Cost at initial theta (zeros):', cost)\n",
    "print('Gradient at initial theta (zeros):', grad)"
   ]
  },
  {
   "cell_type": "markdown",
   "metadata": {},
   "source": [
    "## Part 3: Optimizing using fmin_tnc()"
   ]
  },
  {
   "cell_type": "markdown",
   "metadata": {},
   "source": [
    "Train the model with fin_tnc():"
   ]
  },
  {
   "cell_type": "markdown",
   "metadata": {},
   "source": [
    "Plot the boundary:"
   ]
  },
  {
   "cell_type": "code",
   "execution_count": 18,
   "metadata": {},
   "outputs": [
    {
     "name": "stdout",
     "output_type": "stream",
     "text": [
      "Cost at theta found by fminunc: 0.203497701589475\n",
      "theta: [-25.16131851   0.20623159   0.20147148]\n"
     ]
    }
   ],
   "source": [
    "import scipy.optimize as opt\n",
    "\n",
    "\n",
    "theta, nfeval, rc = opt.fmin_tnc(func=cost_function, x0=theta, args=(X, y))\n",
    "\n",
    "cost, _ = cost_function(theta, X, y)\n",
    "print('Cost at theta found by fminunc:', cost)\n",
    "print('theta:', theta)"
   ]
  },
  {
   "cell_type": "markdown",
   "metadata": {},
   "source": [
    "Now define map_feature()"
   ]
  },
  {
   "cell_type": "code",
   "execution_count": 24,
   "metadata": {},
   "outputs": [],
   "source": [
    "def map_feature(X1, X2):\n",
    "    \"\"\"\n",
    "    Feature mapping function to polynomial features. Inputs X1, X2 must be the same size.\n",
    "    Parameters\n",
    "    ----------\n",
    "    X1 : ndarray, shape (n_samples,)\n",
    "        Input feature.\n",
    "    X2 : ndarray, shape (n_samples,)\n",
    "        Input feature.\n",
    "    Returns\n",
    "    -------\n",
    "    Out : ndarray, shape (n_samples, 28)\n",
    "        A new feature array with more features, comprising of X1, X2, X1.^2, X2.^2, X1*X2, X1*X2.^2, etc..\n",
    "    \"\"\"\n",
    "    degree = 6\n",
    "    Out = np.ones(len(X1))\n",
    "\n",
    "    for i in range(1, degree + 1):\n",
    "        for j in range(0, i + 1):\n",
    "            tmp = np.power(X1, i - j) * np.power(X2, j)\n",
    "            Out = np.vstack((Out, tmp))\n",
    "    return Out.T"
   ]
  },
  {
   "cell_type": "markdown",
   "metadata": {},
   "source": [
    "Now define plot_decision_boundary method"
   ]
  },
  {
   "cell_type": "code",
   "execution_count": 25,
   "metadata": {},
   "outputs": [],
   "source": [
    "def plot_decision_boundary(theta, X, y):\n",
    "    \"\"\"\n",
    "    Plots the data points X and y into a new figure with the decision boundary defined by theta.\n",
    "    Parameters\n",
    "    ----------\n",
    "    theta : ndarray, shape (n_features,)\n",
    "        Linear regression parameter.\n",
    "    X : ndarray, shape (n_samples, n_features)\n",
    "        Training data, where n_samples is the number of samples and n_features is the number of features.\n",
    "    y : ndarray, shape (n_samples,)\n",
    "        Labels.\n",
    "    \"\"\"\n",
    "    if X.shape[1] <= 3:\n",
    "        plot_X = np.array([np.amin(X[:, 1]) - 2, np.amax(X[:, 1]) + 2])\n",
    "        plot_y = -1.0 / theta[2] * (theta[1] * plot_X + theta[0])\n",
    "        plt.plot(plot_X, plot_y)\n",
    "    else:\n",
    "        u = np.linspace(-1, 1.5, 50)\n",
    "        # u.resize((len(u), 1))\n",
    "        v = np.linspace(-1, 1.5, 50)\n",
    "        # v.resize((len(v), 1))\n",
    "        z = np.zeros((len(u), len(v)))\n",
    "        for i in range(len(u)):\n",
    "            for j in range(len(v)):\n",
    "                z[i, j] = map_feature(u[i:i+1], v[j:j+1]).dot(theta)\n",
    "        z = z.T\n",
    "        u, v = np.meshgrid(u, v)\n",
    "        cs = plt.contour(u, v, z, levels=[0])\n",
    "        fmt = {}\n",
    "        strs = ['Decision boundary']\n",
    "        for l, s in zip(cs.levels, strs):\n",
    "            fmt[l] = s\n",
    "\n",
    "        plt.clabel(cs, cs.levels[::2], inline=True, fmt=fmt, fontsize=10)"
   ]
  },
  {
   "cell_type": "markdown",
   "metadata": {},
   "source": [
    "Plot the boundary:"
   ]
  },
  {
   "cell_type": "code",
   "execution_count": 26,
   "metadata": {},
   "outputs": [
    {
     "data": {
      "image/png": "[encoded data removed]",
      "text/plain": [
       "<Figure size 432x288 with 1 Axes>"
      ]
     },
     "metadata": {
      "needs_background": "light"
     },
     "output_type": "display_data"
    }
   ],
   "source": [
    "plt.figure()\n",
    "plot_data(X[:, 1:], y)\n",
    "plt.xlabel('Exam 1 score')\n",
    "plt.ylabel('Exam 2 score')\n",
    "plt.xlim([30, 100])\n",
    "plt.ylim([30, 100])\n",
    "plt.legend(['Admitted', 'Not admitted'], loc='upper right', numpoints=1)\n",
    "\n",
    "# Plot Boundary\n",
    "plot_decision_boundary(theta, X, y)\n",
    "plt.show()"
   ]
  },
  {
   "cell_type": "markdown",
   "metadata": {},
   "source": [
    "## Part 4: Predict and Accuracies"
   ]
  },
  {
   "cell_type": "markdown",
   "metadata": {},
   "source": [
    "Predict probability for a student with score 45 on exam 1 and score 85 on exam 2:"
   ]
  },
  {
   "cell_type": "code",
   "execution_count": 28,
   "metadata": {},
   "outputs": [
    {
     "name": "stdout",
     "output_type": "stream",
     "text": [
      "For a student with scores 45 and 85, we predict an admission probability of 0.7762906214285727\n"
     ]
    }
   ],
   "source": [
    "prob = sigmoid(np.dot(np.array([1, 45, 85]), theta))\n",
    "print('For a student with scores 45 and 85, we predict an admission probability of', prob)"
   ]
  },
  {
   "cell_type": "markdown",
   "metadata": {},
   "source": [
    "The predict() predicts the input data with learned logistic regression parameters."
   ]
  },
  {
   "cell_type": "code",
   "execution_count": 29,
   "metadata": {},
   "outputs": [],
   "source": [
    "def predict(theta, X):\n",
    "    \"\"\"\n",
    "    Predict whether the label is 0 or 1 using learned logistic regression parameters theta.\n",
    "\n",
    "    Parameters\n",
    "    ----------\n",
    "    theta : ndarray, shape (n_features,)\n",
    "        Linear regression parameter.\n",
    "    X : ndarray, shape (n_samples, n_features)\n",
    "        Training data, where n_samples is the number of samples and n_features is the number of features.\n",
    "\n",
    "    Returns\n",
    "    -------\n",
    "    ndarray, shape (n_samples,)\n",
    "        The predictions for X using a threshold at 0.5.\n",
    "    \"\"\"\n",
    "    p = sigmoid(X.dot(theta)) >= 0.5\n",
    "    return p.astype(int)"
   ]
  },
  {
   "cell_type": "markdown",
   "metadata": {},
   "source": [
    "Compute accuracy on our training set:"
   ]
  },
  {
   "cell_type": "code",
   "execution_count": 30,
   "metadata": {},
   "outputs": [
    {
     "name": "stdout",
     "output_type": "stream",
     "text": [
      "Train Accuracy: 89.0\n"
     ]
    }
   ],
   "source": [
    "p = predict(theta, X)\n",
    "print('Train Accuracy:', np.mean(p == y) * 100)"
   ]
  }
 ],
 "metadata": {
  "kernelspec": {
   "display_name": "Python 3",
   "language": "python",
   "name": "python3"
  },
  "language_info": {
   "codemirror_mode": {
    "name": "ipython",
    "version": 3
   },
   "file_extension": ".py",
   "mimetype": "text/x-python",
   "name": "python",
   "nbconvert_exporter": "python",
   "pygments_lexer": "ipython3",
   "version": "3.6.0"
  }
 },
 "nbformat": 4,
 "nbformat_minor": 2
}
